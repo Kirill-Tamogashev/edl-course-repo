{
 "cells": [
  {
   "cell_type": "code",
   "execution_count": 3,
   "id": "ba12f589-d15b-4e27-98dd-f94b9f8e68ed",
   "metadata": {},
   "outputs": [],
   "source": [
    "%load_ext autoreload"
   ]
  },
  {
   "cell_type": "code",
   "execution_count": 10,
   "id": "f9b8f240-fde8-4026-99d4-ac4b4cfad345",
   "metadata": {},
   "outputs": [],
   "source": [
    "import os\n",
    "import torch\n",
    "import torch.nn as nn\n",
    "import torch.distributed as dist\n",
    "import torch.multiprocessing as mp"
   ]
  },
  {
   "cell_type": "code",
   "execution_count": 4,
   "id": "2720fb1f-84fb-4be6-9ef5-5f8d1654eace",
   "metadata": {},
   "outputs": [],
   "source": [
    "%autoreload 2\n",
    "\n",
    "from syncbn import SyncBatchNorm"
   ]
  },
  {
   "cell_type": "code",
   "execution_count": 5,
   "id": "6ac61f5e-219d-4626-b787-0a79f3ac9949",
   "metadata": {},
   "outputs": [],
   "source": [
    "sbn = SyncBatchNorm(100)\n",
    "bn = nn.BatchNorm1d(100)"
   ]
  },
  {
   "cell_type": "code",
   "execution_count": 6,
   "id": "80667eb3-aac2-4283-ba85-786dcf527260",
   "metadata": {},
   "outputs": [],
   "source": [
    "x = torch.rand(16, 100, 256)"
   ]
  },
  {
   "cell_type": "code",
   "execution_count": 8,
   "id": "b9ac85a9-257e-4b1f-b9ab-e722fcdc4e42",
   "metadata": {},
   "outputs": [],
   "source": [
    "# sbn(x)"
   ]
  },
  {
   "cell_type": "code",
   "execution_count": 20,
   "id": "d5217042-8b73-43af-b2bb-1a658d43a7c8",
   "metadata": {},
   "outputs": [],
   "source": [
    "def run(rank, size, input):\n",
    "    \"\"\" Distributed function to be implemented later. \"\"\"\n",
    "    out = sbn(input)\n",
    "\n",
    "def init_process(rank, size, input, fn, backend='gloo'):\n",
    "    \"\"\" Initialize the distributed environment. \"\"\"\n",
    "    os.environ['MASTER_ADDR'] = '127.0.0.1'\n",
    "    os.environ['MASTER_PORT'] = '29500'\n",
    "    \n",
    "    dist.init_process_group(backend, rank=rank, world_size=size)\n",
    "    fn(rank, size, input)"
   ]
  },
  {
   "cell_type": "code",
   "execution_count": 21,
   "id": "1cd32262-4e9e-4066-96a8-24e8652a183b",
   "metadata": {},
   "outputs": [
    {
     "name": "stderr",
     "output_type": "stream",
     "text": [
      "Traceback (most recent call last):\n",
      "  File \"<string>\", line 1, in <module>\n",
      "  File \"/Users/kvtamogashev/miniforge3/lib/python3.10/multiprocessing/spawn.py\", line 116, in spawn_main\n",
      "    exitcode = _main(fd, parent_sentinel)\n",
      "  File \"/Users/kvtamogashev/miniforge3/lib/python3.10/multiprocessing/spawn.py\", line 126, in _main\n",
      "    self = reduction.pickle.load(from_parent)\n",
      "AttributeError: Can't get attribute 'init_process' on <module '__main__' (built-in)>\n",
      "Traceback (most recent call last):\n",
      "  File \"<string>\", line 1, in <module>\n",
      "  File \"/Users/kvtamogashev/miniforge3/lib/python3.10/multiprocessing/spawn.py\", line 116, in spawn_main\n",
      "    exitcode = _main(fd, parent_sentinel)\n",
      "  File \"/Users/kvtamogashev/miniforge3/lib/python3.10/multiprocessing/spawn.py\", line 126, in _main\n",
      "    self = reduction.pickle.load(from_parent)\n",
      "AttributeError: Can't get attribute 'init_process' on <module '__main__' (built-in)>\n"
     ]
    }
   ],
   "source": [
    "size = 2\n",
    "x = torch.rand(size, 16, 100, 256)\n",
    "\n",
    "processes = []\n",
    "mp.set_start_method(\"spawn\")\n",
    "for rank in range(size):\n",
    "    p = mp.Process(target=init_process, args=(rank, size, x[rank], run))\n",
    "    p.start()\n",
    "    processes.append(p)\n",
    "\n",
    "for p in processes:\n",
    "    p.join()"
   ]
  },
  {
   "cell_type": "code",
   "execution_count": 19,
   "id": "b302ce5a-789b-4f71-b724-cb22aad1b6cb",
   "metadata": {},
   "outputs": [
    {
     "data": {
      "text/plain": [
       "torch.Size([16, 100, 256])"
      ]
     },
     "execution_count": 19,
     "metadata": {},
     "output_type": "execute_result"
    }
   ],
   "source": [
    "x[0].shape"
   ]
  },
  {
   "cell_type": "code",
   "execution_count": 25,
   "id": "3263c97c-9f85-4297-b60b-9efe97c11aa5",
   "metadata": {},
   "outputs": [
    {
     "data": {
      "text/plain": [
       "tensor([[[ 0.0784,  0.0996, -0.0383, -0.0372, -0.0514,  0.0836, -0.1197,\n",
       "           0.1208,  0.0244, -0.1221]]])"
      ]
     },
     "execution_count": 25,
     "metadata": {},
     "output_type": "execute_result"
    }
   ],
   "source": [
    "torch.randn(10, 10, 10).mean(dim=(0, 1), keepdims=True)"
   ]
  },
  {
   "cell_type": "code",
   "execution_count": null,
   "id": "547970d6-d150-4847-9aa6-c3e5bdd2c52e",
   "metadata": {},
   "outputs": [],
   "source": []
  }
 ],
 "metadata": {
  "kernelspec": {
   "display_name": "Python 3 (ipykernel)",
   "language": "python",
   "name": "python3"
  },
  "language_info": {
   "codemirror_mode": {
    "name": "ipython",
    "version": 3
   },
   "file_extension": ".py",
   "mimetype": "text/x-python",
   "name": "python",
   "nbconvert_exporter": "python",
   "pygments_lexer": "ipython3",
   "version": "3.10.6"
  }
 },
 "nbformat": 4,
 "nbformat_minor": 5
}
