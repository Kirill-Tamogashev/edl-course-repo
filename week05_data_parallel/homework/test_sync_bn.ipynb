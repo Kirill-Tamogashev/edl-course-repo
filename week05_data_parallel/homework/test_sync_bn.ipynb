{
 "cells": [
  {
   "cell_type": "code",
   "execution_count": 1,
   "id": "2720fb1f-84fb-4be6-9ef5-5f8d1654eace",
   "metadata": {},
   "outputs": [],
   "source": [
    "import os\n",
    "import torch\n",
    "import torch.nn as nn\n",
    "import torch.distributed as dist\n",
    "import torch.multiprocessing as mp\n",
    "\n",
    "%load_ext autoreload\n",
    "%autoreload 2\n",
    "from syncbn import SyncBatchNorm"
   ]
  },
  {
   "cell_type": "markdown",
   "id": "d3fc3810",
   "metadata": {},
   "source": [
    "### preliminary computations"
   ]
  },
  {
   "cell_type": "code",
   "execution_count": 434,
   "id": "6c808237",
   "metadata": {},
   "outputs": [],
   "source": [
    "def bn(x, rmean, rvar, momentum=0.1, eps=1e-05):\n",
    "    batch = x.size(0)\n",
    "    hidden = x.size(2)\n",
    "    mean = x.mean(dim=(0, 2))\n",
    "    \n",
    "    squared_mean = x.pow(2).mean(dim=(0, 2))\n",
    "    \n",
    "    var = squared_mean - mean.pow(2)\n",
    "    \n",
    "    inverse = 1 / torch.sqrt(var + eps)\n",
    "    normalized = (x - mean.view(1, -1, 1)) * inverse.view(1, -1, 1)\n",
    "\n",
    "    bias_correction = (batch * hidden) / (batch * hidden - 1) \n",
    "    \n",
    "    with torch.no_grad():\n",
    "        rmean.mul_(1 - momentum).add_(mean * momentum)\n",
    "        rvar.mul_(1 - momentum).add_(var * bias_correction * momentum)\n",
    "    \n",
    "    return normalized, inverse"
   ]
  },
  {
   "cell_type": "code",
   "execution_count": 435,
   "id": "bfca086d",
   "metadata": {},
   "outputs": [],
   "source": [
    "def bn_grad(grad_output, inverse, normalized):\n",
    "    \n",
    "    batch = grad_output.size(0)\n",
    "    hidden = grad_output.size(2)\n",
    "    \n",
    "    N = batch * hidden\n",
    "    inverse = inverse.view(1, -1, 1)\n",
    "    grad_input = inverse / N * (\n",
    "        N * grad_output \\\n",
    "        - grad_output.sum(dim=(0, 2)).view(1, -1, 1) \\\n",
    "        - normalized * (normalized * grad_output).sum(dim=(0, 2)).view(1, -1, 1)\n",
    "    )\n",
    "    \n",
    "    return grad_input"
   ]
  },
  {
   "cell_type": "code",
   "execution_count": 436,
   "id": "348b16ef",
   "metadata": {},
   "outputs": [],
   "source": [
    "x = torch.rand(16, 100, 256)\n",
    "copy_x = x.clone()\n",
    "\n",
    "x.requires_grad = True\n",
    "copy_x.requires_grad = True"
   ]
  },
  {
   "cell_type": "code",
   "execution_count": 437,
   "id": "55fa862f",
   "metadata": {},
   "outputs": [],
   "source": [
    "rmean = torch.zeros(x.size(1))\n",
    "rvar = torch.ones(x.size(1))\n",
    "\n",
    "y_pred, inverse = bn(x, rmean, rvar)\n",
    "y_pred.sum().backward()"
   ]
  },
  {
   "cell_type": "code",
   "execution_count": 438,
   "id": "721d44a9",
   "metadata": {},
   "outputs": [],
   "source": [
    "bn1d = nn.BatchNorm1d(100, affine=False, track_running_stats=True)\n",
    "y_true = bn1d(copy_x)\n",
    "y_true.sum().backward()"
   ]
  },
  {
   "cell_type": "code",
   "execution_count": 441,
   "id": "f51468ed",
   "metadata": {},
   "outputs": [
    {
     "name": "stdout",
     "output_type": "stream",
     "text": [
      "outputs same:  True\n",
      " rmeans same:  True\n",
      "  rvars smae:  True\n",
      "  grads same:  True\n",
      "  grads same:  True\n"
     ]
    }
   ],
   "source": [
    "print('outputs same: ', torch.allclose(y_true, y_pred, atol=1e-0))\n",
    "print(' rmeans same: ', torch.allclose(bn1d.running_mean, rmean))\n",
    "print('  rvars smae: ', torch.allclose(bn1d.running_var, rvar))\n",
    "print('  grads same: ', torch.allclose(copy_x.grad, x.grad, atol=1e-5))\n",
    "\n",
    "d = torch.ones_like(x)\n",
    "print('  grads same: ', torch.allclose(bn_grad(d, inverse, y_pred), copy_x.grad, atol=1e-5))"
   ]
  },
  {
   "cell_type": "markdown",
   "id": "4d669eba",
   "metadata": {},
   "source": [
    "### final testing"
   ]
  },
  {
   "cell_type": "code",
   "execution_count": 2,
   "id": "9c826d54",
   "metadata": {},
   "outputs": [],
   "source": [
    "x = torch.randn(16, 100, 256)\n",
    "x_copy = x.detach().clone()\n",
    "\n",
    "x.requires_grad = True\n",
    "x_copy.requires_grad = True"
   ]
  },
  {
   "cell_type": "code",
   "execution_count": 3,
   "id": "304f44e8",
   "metadata": {},
   "outputs": [],
   "source": [
    "sbn = SyncBatchNorm(100)\n",
    "bn1d = nn.BatchNorm1d(100, affine=False, track_running_stats=True)"
   ]
  },
  {
   "cell_type": "code",
   "execution_count": 4,
   "id": "e94f56db",
   "metadata": {},
   "outputs": [
    {
     "name": "stdout",
     "output_type": "stream",
     "text": [
      "True\n",
      "True\n",
      "True\n",
      "True\n"
     ]
    }
   ],
   "source": [
    "y_true = bn1d(x_copy)\n",
    "y_pred = sbn(x)\n",
    "\n",
    "print(torch.allclose(y_pred, y_true, atol=1e-08))\n",
    "print(torch.allclose(sbn.running_mean, bn1d.running_mean, atol=1e-08))\n",
    "print(torch.allclose(sbn.running_var, bn1d.running_var, atol=1e-08))\n",
    "\n",
    "y_true.sum().backward()\n",
    "y_pred.sum().backward()\n",
    "print(torch.allclose(x.grad, x_copy.grad, atol=1e-05))"
   ]
  },
  {
   "cell_type": "code",
   "execution_count": 5,
   "id": "a7fb49e3",
   "metadata": {},
   "outputs": [
    {
     "data": {
      "text/plain": [
       "[(0, 2, 10),\n",
       " (0, 2, 20),\n",
       " (0, 2, 30),\n",
       " (0, 4, 10),\n",
       " (0, 4, 20),\n",
       " (0, 4, 30),\n",
       " (0, 6, 10),\n",
       " (0, 6, 20),\n",
       " (0, 6, 30),\n",
       " (1, 2, 10),\n",
       " (1, 2, 20),\n",
       " (1, 2, 30),\n",
       " (1, 4, 10),\n",
       " (1, 4, 20),\n",
       " (1, 4, 30),\n",
       " (1, 6, 10),\n",
       " (1, 6, 20),\n",
       " (1, 6, 30),\n",
       " (2, 2, 10),\n",
       " (2, 2, 20),\n",
       " (2, 2, 30),\n",
       " (2, 4, 10),\n",
       " (2, 4, 20),\n",
       " (2, 4, 30),\n",
       " (2, 6, 10),\n",
       " (2, 6, 20),\n",
       " (2, 6, 30)]"
      ]
     },
     "execution_count": 5,
     "metadata": {},
     "output_type": "execute_result"
    }
   ],
   "source": [
    "[(i, j, k) for i in range(0, 3) for j in range(2, 7 ,2) for k in range(10, 31, 10)]"
   ]
  },
  {
   "cell_type": "code",
   "execution_count": 20,
   "id": "d5217042-8b73-43af-b2bb-1a658d43a7c8",
   "metadata": {},
   "outputs": [],
   "source": [
    "def run(rank, size, input):\n",
    "    \"\"\" Distributed function to be implemented later. \"\"\"\n",
    "    out = sbn(input)\n",
    "\n",
    "def init_process(rank, size, input, fn, backend='gloo'):\n",
    "    \"\"\" Initialize the distributed environment. \"\"\"\n",
    "    os.environ['MASTER_ADDR'] = '127.0.0.1'\n",
    "    os.environ['MASTER_PORT'] = '29500'\n",
    "    \n",
    "    dist.init_process_group(backend, rank=rank, world_size=size)\n",
    "    fn(rank, size, input)"
   ]
  },
  {
   "cell_type": "code",
   "execution_count": 21,
   "id": "1cd32262-4e9e-4066-96a8-24e8652a183b",
   "metadata": {},
   "outputs": [
    {
     "name": "stderr",
     "output_type": "stream",
     "text": [
      "Traceback (most recent call last):\n",
      "  File \"<string>\", line 1, in <module>\n",
      "  File \"/Users/kvtamogashev/miniforge3/lib/python3.10/multiprocessing/spawn.py\", line 116, in spawn_main\n",
      "    exitcode = _main(fd, parent_sentinel)\n",
      "  File \"/Users/kvtamogashev/miniforge3/lib/python3.10/multiprocessing/spawn.py\", line 126, in _main\n",
      "    self = reduction.pickle.load(from_parent)\n",
      "AttributeError: Can't get attribute 'init_process' on <module '__main__' (built-in)>\n",
      "Traceback (most recent call last):\n",
      "  File \"<string>\", line 1, in <module>\n",
      "  File \"/Users/kvtamogashev/miniforge3/lib/python3.10/multiprocessing/spawn.py\", line 116, in spawn_main\n",
      "    exitcode = _main(fd, parent_sentinel)\n",
      "  File \"/Users/kvtamogashev/miniforge3/lib/python3.10/multiprocessing/spawn.py\", line 126, in _main\n",
      "    self = reduction.pickle.load(from_parent)\n",
      "AttributeError: Can't get attribute 'init_process' on <module '__main__' (built-in)>\n"
     ]
    }
   ],
   "source": [
    "size = 2\n",
    "x = torch.rand(size, 16, 100, 256)\n",
    "\n",
    "processes = []\n",
    "mp.set_start_method(\"spawn\")\n",
    "for rank in range(size):\n",
    "    p = mp.Process(target=init_process, args=(rank, size, x[rank], run))\n",
    "    p.start()\n",
    "    processes.append(p)\n",
    "\n",
    "for p in processes:\n",
    "    p.join()"
   ]
  },
  {
   "cell_type": "code",
   "execution_count": 19,
   "id": "b302ce5a-789b-4f71-b724-cb22aad1b6cb",
   "metadata": {},
   "outputs": [
    {
     "data": {
      "text/plain": [
       "torch.Size([16, 100, 256])"
      ]
     },
     "execution_count": 19,
     "metadata": {},
     "output_type": "execute_result"
    }
   ],
   "source": [
    "x[0].shape"
   ]
  },
  {
   "cell_type": "code",
   "execution_count": 25,
   "id": "3263c97c-9f85-4297-b60b-9efe97c11aa5",
   "metadata": {},
   "outputs": [
    {
     "data": {
      "text/plain": [
       "tensor([[[ 0.0784,  0.0996, -0.0383, -0.0372, -0.0514,  0.0836, -0.1197,\n",
       "           0.1208,  0.0244, -0.1221]]])"
      ]
     },
     "execution_count": 25,
     "metadata": {},
     "output_type": "execute_result"
    }
   ],
   "source": [
    "torch.randn(10, 10, 10).mean(dim=(0, 1), keepdims=True)"
   ]
  },
  {
   "cell_type": "code",
   "execution_count": null,
   "id": "547970d6-d150-4847-9aa6-c3e5bdd2c52e",
   "metadata": {},
   "outputs": [],
   "source": []
  }
 ],
 "metadata": {
  "kernelspec": {
   "display_name": "Python 3 (ipykernel)",
   "language": "python",
   "name": "python3"
  },
  "language_info": {
   "codemirror_mode": {
    "name": "ipython",
    "version": 3
   },
   "file_extension": ".py",
   "mimetype": "text/x-python",
   "name": "python",
   "nbconvert_exporter": "python",
   "pygments_lexer": "ipython3",
   "version": "3.10.6"
  }
 },
 "nbformat": 4,
 "nbformat_minor": 5
}
